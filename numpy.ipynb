{
 "cells": [
  {
   "cell_type": "markdown",
   "id": "d400d012",
   "metadata": {},
   "source": [
    "# NUMPY BASICS"
   ]
  },
  {
   "cell_type": "code",
   "execution_count": 1,
   "id": "7b886b96",
   "metadata": {},
   "outputs": [],
   "source": [
    "import numpy as np"
   ]
  },
  {
   "cell_type": "markdown",
   "id": "8d6b7c4d",
   "metadata": {},
   "source": [
    "## 1.Array Creation"
   ]
  },
  {
   "cell_type": "markdown",
   "id": "7fb3c3f6",
   "metadata": {},
   "source": [
    "### Create an array"
   ]
  },
  {
   "cell_type": "code",
   "execution_count": 3,
   "id": "8f7ea9e7",
   "metadata": {},
   "outputs": [
    {
     "name": "stdout",
     "output_type": "stream",
     "text": [
      "[1 2 3 4 5 6]\n"
     ]
    },
    {
     "data": {
      "text/plain": [
       "dtype('int64')"
      ]
     },
     "execution_count": 3,
     "metadata": {},
     "output_type": "execute_result"
    }
   ],
   "source": [
    "a = np.array([1,2,3,4,5,6])\n",
    "print(a)\n",
    "a.dtype"
   ]
  },
  {
   "cell_type": "markdown",
   "id": "147067cf",
   "metadata": {},
   "source": [
    "### Specify the data type of the array when you create it"
   ]
  },
  {
   "cell_type": "code",
   "execution_count": 4,
   "id": "ef8ab375",
   "metadata": {},
   "outputs": [
    {
     "name": "stdout",
     "output_type": "stream",
     "text": [
      "[1. 2. 3. 4.]\n"
     ]
    },
    {
     "data": {
      "text/plain": [
       "dtype('float64')"
      ]
     },
     "execution_count": 4,
     "metadata": {},
     "output_type": "execute_result"
    }
   ],
   "source": [
    "c = np.array([1,2,3,4], dtype=float)\n",
    "print(c)\n",
    "c.dtype"
   ]
  },
  {
   "cell_type": "markdown",
   "id": "7bee0c8d",
   "metadata": {},
   "source": [
    "### Create an empty array (zeros/ones)"
   ]
  },
  {
   "cell_type": "code",
   "execution_count": 7,
   "id": "7493b463",
   "metadata": {},
   "outputs": [
    {
     "name": "stdout",
     "output_type": "stream",
     "text": [
      "[[0 0 0]\n",
      " [0 0 0]\n",
      " [0 0 0]]\n"
     ]
    }
   ],
   "source": [
    "d1 = np.zeros((3,3), dtype=int)\n",
    "print(d1)"
   ]
  },
  {
   "cell_type": "code",
   "execution_count": 8,
   "id": "25492cf8",
   "metadata": {},
   "outputs": [
    {
     "name": "stdout",
     "output_type": "stream",
     "text": [
      "[[1 1 1]\n",
      " [1 1 1]\n",
      " [1 1 1]]\n",
      "[[0 0 0]\n",
      " [0 0 0]\n",
      " [0 0 0]]\n"
     ]
    }
   ],
   "source": [
    "d2 = np.ones((3,3), dtype=int)\n",
    "print(d2)\n",
    "d3 = np.empty((3,3), dtype=int)\n",
    "print(d3)"
   ]
  },
  {
   "cell_type": "markdown",
   "id": "fa57225e",
   "metadata": {},
   "source": [
    "### Create arrays with random values"
   ]
  },
  {
   "cell_type": "markdown",
   "id": "f253aac5",
   "metadata": {},
   "source": [
    "#### float values"
   ]
  },
  {
   "cell_type": "code",
   "execution_count": 13,
   "id": "a1bb4a62",
   "metadata": {},
   "outputs": [
    {
     "name": "stdout",
     "output_type": "stream",
     "text": [
      "[0.37282703 0.05445514 0.60393537 0.0334519  0.5255197 ]\n",
      "[[0.5083143  0.06746624]\n",
      " [0.38659512 0.37002818]]\n",
      "[[[0.7307315  0.15173565]\n",
      "  [0.85628424 0.16832412]]\n",
      "\n",
      " [[0.52713465 0.29971369]\n",
      "  [0.62080344 0.04973085]]]\n"
     ]
    }
   ],
   "source": [
    "F1 = np.random.random(5)\n",
    "print(F1)\n",
    "\n",
    "F2 = np.random.random((2,2))\n",
    "print(F2)\n",
    "\n",
    "F3 = np.random.random((2,2,2))\n",
    "print(F3)"
   ]
  },
  {
   "cell_type": "markdown",
   "id": "6ae0e153",
   "metadata": {},
   "source": [
    "#### integer values"
   ]
  },
  {
   "cell_type": "code",
   "execution_count": 15,
   "id": "8578ea44",
   "metadata": {},
   "outputs": [
    {
     "name": "stdout",
     "output_type": "stream",
     "text": [
      "[[ 9 12 17]\n",
      " [21 20 10]\n",
      " [ 5 22 11]]\n",
      "[ 37 -13  32  -1  30 -17  29  31   4  27]\n"
     ]
    }
   ],
   "source": [
    "I1 = np.random.randint(0,25, (3,3))   ### 3X3 MATRIX WHICH TAKES VALUES FROM 0 TO 25\n",
    "print(I1)\n",
    "\n",
    "I2 = np.random.randint(-50,50,10)     ### 10X1 MATRIX \n",
    "print(I2)"
   ]
  },
  {
   "cell_type": "markdown",
   "id": "2398a06f",
   "metadata": {},
   "source": [
    "## 2.Array Manypulation"
   ]
  },
  {
   "cell_type": "markdown",
   "id": "e09d47d2",
   "metadata": {},
   "source": [
    "#### Addition/Subtraction"
   ]
  },
  {
   "cell_type": "code",
   "execution_count": 17,
   "id": "3899b815",
   "metadata": {},
   "outputs": [
    {
     "name": "stdout",
     "output_type": "stream",
     "text": [
      "[29 69 -3]\n"
     ]
    }
   ],
   "source": [
    "l1 = np.array([34,76,87])\n",
    "l2 = np.array([5,7,90])\n",
    "\n",
    "l = l1-l2\n",
    "print(l)\n"
   ]
  },
  {
   "cell_type": "markdown",
   "id": "efe45be3",
   "metadata": {},
   "source": [
    "#### Element wise multiplication"
   ]
  },
  {
   "cell_type": "code",
   "execution_count": 19,
   "id": "67dbdfb7",
   "metadata": {},
   "outputs": [
    {
     "name": "stdout",
     "output_type": "stream",
     "text": [
      "[ 170  532 7830]\n"
     ]
    }
   ],
   "source": [
    "l_mult = l1*l2\n",
    "print(l_mult)"
   ]
  },
  {
   "cell_type": "markdown",
   "id": "058185ca",
   "metadata": {},
   "source": [
    "#### Matrix multiplication"
   ]
  },
  {
   "cell_type": "code",
   "execution_count": 27,
   "id": "20b75905",
   "metadata": {},
   "outputs": [
    {
     "name": "stdout",
     "output_type": "stream",
     "text": [
      "[[ 42 229]\n",
      " [108 475]]\n",
      "the size of the dinal matrix is 2\n"
     ]
    }
   ],
   "source": [
    "l3 = np.array([[1,2,3],[4,5,6]])          ### A 2X3 MATRIX\n",
    "l4 = np.array([[6,2],[12,13],[4,67]])     ### A 3X2 MATRIX\n",
    "\n",
    "l_matrix_mult = l3@l4\n",
    "print(l_matrix_mult)\n",
    "print('the size of the dinal matrix is',l_matrix_mult.ndim)"
   ]
  },
  {
   "cell_type": "markdown",
   "id": "77f43af5",
   "metadata": {},
   "source": [
    "#### Scalar multiplication/sum/min/max/dimensions/size(total elements)"
   ]
  },
  {
   "cell_type": "code",
   "execution_count": 26,
   "id": "fc954513",
   "metadata": {},
   "outputs": [
    {
     "name": "stdout",
     "output_type": "stream",
     "text": [
      "[ 4  8 12 16]\n",
      "20\n",
      "2\n",
      "8\n",
      "1\n",
      "4\n"
     ]
    }
   ],
   "source": [
    "p = np.array([2,4,6,8])\n",
    "\n",
    "p_scal2 = p*2\n",
    "print(p_scal2)\n",
    "\n",
    "p_sum = p.sum()\n",
    "print(p_sum)\n",
    "\n",
    "p_min = p.min()\n",
    "print(p.min())\n",
    "\n",
    "p_max = p.max()\n",
    "print(p.max())\n",
    "\n",
    "p_dims = p.ndim\n",
    "print(p.ndim)\n",
    "\n",
    "p_size = p.size\n",
    "print(p.size)"
   ]
  },
  {
   "cell_type": "markdown",
   "id": "c1f5739b",
   "metadata": {},
   "source": [
    "#### Elements based on a condition"
   ]
  },
  {
   "cell_type": "code",
   "execution_count": 29,
   "id": "79696fea",
   "metadata": {},
   "outputs": [
    {
     "data": {
      "text/plain": [
       "array([[26, 28, 14, 41, 31],\n",
       "       [45, 76, -1,  4,  6],\n",
       "       [59, 90, -1,  8, -1],\n",
       "       [ 3,  4,  5,  6,  7],\n",
       "       [ 9, 90,  2, 20,  1]])"
      ]
     },
     "execution_count": 29,
     "metadata": {},
     "output_type": "execute_result"
    }
   ],
   "source": [
    "r = np.array([[26,28,14,41,31],[45,76,-12,4,6],\n",
    "              [59,90,-2,8,-13],[3,4,5,6,7],[9,90,2,20,1]])\n",
    "\n",
    "np.where(r>30,1,0)               ### WHERE r>30 REPLACE WITH 1, ELSE REPLACE WITH 0\n",
    "np.where(r<0,-1,r)"
   ]
  },
  {
   "cell_type": "markdown",
   "id": "ad8b6080",
   "metadata": {},
   "source": [
    "#### Indexing"
   ]
  },
  {
   "cell_type": "code",
   "execution_count": 36,
   "id": "2f8377a1",
   "metadata": {},
   "outputs": [
    {
     "name": "stdout",
     "output_type": "stream",
     "text": [
      "3\n",
      "[[[0. 0. 0.]\n",
      "  [0. 0. 0.]\n",
      "  [0. 0. 0.]]\n",
      "\n",
      " [[0. 0. 0.]\n",
      "  [0. 0. 0.]\n",
      "  [0. 0. 0.]]\n",
      "\n",
      " [[0. 0. 0.]\n",
      "  [0. 0. 0.]\n",
      "  [0. 0. 0.]]]\n",
      "0.0\n",
      "[[[ 0. 12.  0.]\n",
      "  [ 0.  0.  0.]\n",
      "  [ 0.  0.  0.]]\n",
      "\n",
      " [[ 0.  0.  0.]\n",
      "  [ 0.  0.  0.]\n",
      "  [ 0.  0.  0.]]\n",
      "\n",
      " [[ 0.  0.  0.]\n",
      "  [ 0.  0.  0.]\n",
      "  [ 0.  0.  0.]]]\n"
     ]
    },
    {
     "data": {
      "text/plain": [
       "True"
      ]
     },
     "execution_count": 36,
     "metadata": {},
     "output_type": "execute_result"
    }
   ],
   "source": [
    "a_3d = np.zeros((3,3,3))\n",
    "print(a_3d.ndim)\n",
    "print(a_3d)\n",
    "print(a_3d[0][0][1])\n",
    "\n",
    "a_3d[0][0][1] = 12\n",
    "print(a_3d)\n",
    "\n",
    "12 in a_3d                   ### CHECK IF 12 IN ARRAY"
   ]
  },
  {
   "cell_type": "markdown",
   "id": "49a03a81",
   "metadata": {},
   "source": [
    "#### Slicing"
   ]
  },
  {
   "cell_type": "code",
   "execution_count": 41,
   "id": "72b1c6c2",
   "metadata": {},
   "outputs": [
    {
     "name": "stdout",
     "output_type": "stream",
     "text": [
      "[[ 26  28  14  41  31]\n",
      " [ 45  76 -12   4   6]\n",
      " [ 59  90  -2   8 -13]\n",
      " [  3   4   5   6   7]\n",
      " [  9  90   2  20   1]]\n",
      "[[ 26  28  14]\n",
      " [ 45  76 -12]\n",
      " [ 59  90  -2]\n",
      " [  3   4   5]\n",
      " [  9  90   2]]\n",
      "[28 76 90  4 90]\n"
     ]
    }
   ],
   "source": [
    "print(r)\n",
    "\n",
    "print(r[:,:3])             ### GET THE FIRST THREE COLUMNS\n",
    "\n",
    "print(r[:,1])              ### GET AN ARRAY FROM THE SECOND ELEMENT OF EACH ROW"
   ]
  },
  {
   "cell_type": "markdown",
   "id": "899e628e",
   "metadata": {},
   "source": [
    "#### Reshaping/transpose"
   ]
  },
  {
   "cell_type": "code",
   "execution_count": 43,
   "id": "d11e416f",
   "metadata": {},
   "outputs": [
    {
     "name": "stdout",
     "output_type": "stream",
     "text": [
      "[[ 26  28  14  41  31]\n",
      " [ 45  76 -12   4   6]\n",
      " [ 59  90  -2   8 -13]]\n",
      "[[ 26  28  14]\n",
      " [ 41  31  45]\n",
      " [ 76 -12   4]\n",
      " [  6  59  90]\n",
      " [ -2   8 -13]]\n",
      "[[ 26  41  76   6  -2]\n",
      " [ 28  31 -12  59   8]\n",
      " [ 14  45   4  90 -13]]\n"
     ]
    }
   ],
   "source": [
    "r_3x5 = r[:3,:]\n",
    "print(r_3x5)\n",
    "r_reshaped = r_3x5.reshape(5,3)\n",
    "print(r_reshaped)\n",
    "\n",
    "print(r_reshaped.T)                      ### OR np.transpose(a)"
   ]
  },
  {
   "cell_type": "code",
   "execution_count": null,
   "id": "349b2151",
   "metadata": {},
   "outputs": [],
   "source": []
  }
 ],
 "metadata": {
  "kernelspec": {
   "display_name": "Python 3 (ipykernel)",
   "language": "python",
   "name": "python3"
  },
  "language_info": {
   "codemirror_mode": {
    "name": "ipython",
    "version": 3
   },
   "file_extension": ".py",
   "mimetype": "text/x-python",
   "name": "python",
   "nbconvert_exporter": "python",
   "pygments_lexer": "ipython3",
   "version": "3.9.10"
  }
 },
 "nbformat": 4,
 "nbformat_minor": 5
}
